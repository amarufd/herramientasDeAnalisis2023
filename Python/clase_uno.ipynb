{
 "cells": [
  {
   "cell_type": "code",
   "execution_count": 6,
   "metadata": {},
   "outputs": [
    {
     "data": {
      "text/plain": [
       "'Amaru Fernandez'"
      ]
     },
     "execution_count": 6,
     "metadata": {},
     "output_type": "execute_result"
    }
   ],
   "source": [
    "# Esto es un comentario\n",
    "\n",
    "'''\n",
    "Desarrollador: Amaru Fernandez\n",
    "Ubicacion: santiago\n",
    "Version python: 3.8\n",
    "'''\n",
    "\n",
    "nombre = \"Amaru\"\n",
    "apellido = \"Fernandez\"\n",
    "nombre_completo = nombre + \" \" + apellido\n",
    "nombre_completo"
   ]
  },
  {
   "cell_type": "code",
   "execution_count": 13,
   "metadata": {},
   "outputs": [
    {
     "name": "stdout",
     "output_type": "stream",
     "text": [
      "1\n",
      "22\n",
      "3\n",
      "4\n",
      "55\n",
      "6\n",
      "Mon May 22 20:34:06 2023\n",
      "fin\n"
     ]
    }
   ],
   "source": [
    "import time\n",
    "\n",
    "# Ejemplo 1: Iterando sobre una lista\n",
    "numeros = [1, 22, 3, 4, 55, 6]\n",
    "for numero in numeros:\n",
    "    print(numero)\n",
    "\n",
    "time.sleep(0.3)\n",
    "ahora = time.ctime()\n",
    "\n",
    "print(ahora)\n",
    "print(\"fin\")\n"
   ]
  },
  {
   "cell_type": "code",
   "execution_count": 12,
   "metadata": {},
   "outputs": [
    {
     "name": "stdout",
     "output_type": "stream",
     "text": [
      "H\n",
      "o\n",
      "l\n",
      "a\n",
      ",\n",
      " \n",
      "m\n",
      "u\n",
      "n\n",
      "d\n",
      "o\n",
      "!\n",
      "1\n",
      "2\n",
      "3\n",
      "4\n",
      "5\n"
     ]
    }
   ],
   "source": [
    "# Ejemplo 2: Iterando sobre una cadena de texto\n",
    "mensaje = \"Hola, mundo!\"\n",
    "for caracter in mensaje:\n",
    "    print(caracter)\n",
    "\n",
    "# Ejemplo 3: Iterando sobre un rango de números\n",
    "for i in range(1, 6):\n",
    "    print(i)"
   ]
  },
  {
   "cell_type": "code",
   "execution_count": 21,
   "metadata": {},
   "outputs": [
    {
     "name": "stdout",
     "output_type": "stream",
     "text": [
      "Se cambia el huevo porque salio malo\n",
      "Se cambia el huevo porque salio mas o menos\n",
      "hay 5 huevos buenos, 1 huevos malos y 1 huevos indefinidos\n",
      "['bueno', 'bueno', 'malo', 'bueno', 'bueno', 'bueno', 'mas o menos']\n"
     ]
    }
   ],
   "source": [
    "huevos = ['bueno', 'bueno', 'malo', 'bueno', 'bueno', 'bueno', \"mas o menos\"]\n",
    "huevos_buenos = 0\n",
    "huevos_malos = 0\n",
    "huevos_otros = 0\n",
    "for huevo in huevos:\n",
    "    if huevo == 'malo':\n",
    "        huevos_malos += 1\n",
    "    elif huevo == 'bueno':\n",
    "        huevos_buenos += 1\n",
    "    else:\n",
    "        huevos_otros += 1\n",
    "    \n",
    "    if huevo == 'malo' or huevo != 'bueno':\n",
    "        print(\"Se cambia el huevo porque salio \"+ huevo)\n",
    "\n",
    "\n",
    "print(\"hay {} huevos buenos, {} huevos malos y {} huevos indefinidos\".format(huevos_buenos,huevos_malos,huevos_otros))\n",
    "\n",
    "## Otras formas de concatenar informacion\n",
    "# print(\"hay \" + str(huevos_buenos) + \" huevos buenos y \" + str(huevos_malos) + \" huevos malos\")\n",
    "# print(f\"hay {huevos_buenos} huevos buenos y {huevos_malos} huevos malos\")\n",
    "print(huevos)"
   ]
  },
  {
   "cell_type": "code",
   "execution_count": 31,
   "metadata": {},
   "outputs": [
    {
     "name": "stdout",
     "output_type": "stream",
     "text": [
      "Se cambia el huevo porque salio malo\n",
      "Se cambia el huevo porque salio mas o menos\n",
      "hay 5 huevos buenos, 1 huevos malos y 1 huevos indefinidos\n",
      "se cambiaron los huevos: [2, 6]\n",
      "['bueno', 'bueno', 'bueno', 'bueno', 'bueno', 'bueno', 'bueno']\n"
     ]
    }
   ],
   "source": [
    "huevos = ['bueno', 'bueno', 'malo', 'bueno', 'bueno', 'bueno', \"mas o menos\"]\n",
    "hist_huevos_cambiados = list()\n",
    "huevos_buenos = 0\n",
    "huevos_malos = 0\n",
    "huevos_otros = 0\n",
    "for posicion_huevo in range(0, len(huevos)):\n",
    "    if huevos[posicion_huevo] == 'malo':\n",
    "        huevos_malos += 1\n",
    "    elif huevos[posicion_huevo] == 'bueno':\n",
    "        huevos_buenos += 1\n",
    "    else:\n",
    "        huevos_otros += 1\n",
    "    \n",
    "    if huevos[posicion_huevo] == 'malo' or huevos[posicion_huevo] != 'bueno':\n",
    "        print(\"Se cambia el huevo porque salio \"+ huevos[posicion_huevo])\n",
    "        huevos[posicion_huevo] = \"bueno\"\n",
    "        hist_huevos_cambiados.append(posicion_huevo)\n",
    "\n",
    "\n",
    "print(\"hay {} huevos buenos, {} huevos malos y {} huevos indefinidos\".format(huevos_buenos,huevos_malos,huevos_otros))\n",
    "print(f\"se cambiaron los huevos: {hist_huevos_cambiados}\")\n",
    "\n",
    "## Otras formas de concatenar informacion\n",
    "# print(\"hay \" + str(huevos_buenos) + \" huevos buenos y \" + str(huevos_malos) + \" huevos malos\")\n",
    "# print(f\"hay {huevos_buenos} huevos buenos y {huevos_malos} huevos malos\")\n",
    "print(huevos)"
   ]
  },
  {
   "cell_type": "code",
   "execution_count": 32,
   "metadata": {},
   "outputs": [
    {
     "name": "stdout",
     "output_type": "stream",
     "text": [
      "['malo', 'bueno', 'malo', 'malo', 'bueno', 'malo', 'malo', 'mas o menos', 'mas o menos', 'bueno']\n"
     ]
    }
   ],
   "source": [
    "import random\n",
    "\n",
    "n = 10  # Longitud deseada de la lista\n",
    "elementos = [\"bueno\", \"malo\", \"mas o menos\"]  # Elementos posibles\n",
    "\n",
    "lista_aleatoria = [random.choice(elementos) for _ in range(n)]\n",
    "print(lista_aleatoria)"
   ]
  },
  {
   "cell_type": "code",
   "execution_count": 35,
   "metadata": {},
   "outputs": [
    {
     "name": "stdout",
     "output_type": "stream",
     "text": [
      "hay 16 huevos buenos, 12 huevos malos y 22 huevos indefinidos\n",
      "se cambiaron los huevos: [0, 2, 3, 4, 5, 6, 7, 8, 10, 11, 12, 14, 15, 18, 19, 20, 21, 22, 23, 25, 26, 28, 29, 32, 35, 37, 38, 40, 41, 42, 43, 44, 45, 46]\n",
      "['bueno', 'bueno', 'bueno', 'bueno', 'bueno', 'bueno', 'bueno', 'bueno', 'bueno', 'bueno', 'bueno', 'bueno', 'bueno', 'bueno', 'bueno', 'bueno', 'bueno', 'bueno', 'bueno', 'bueno', 'bueno', 'bueno', 'bueno', 'bueno', 'bueno', 'bueno', 'bueno', 'bueno', 'bueno', 'bueno', 'bueno', 'bueno', 'bueno', 'bueno', 'bueno', 'bueno', 'bueno', 'bueno', 'bueno', 'bueno', 'bueno', 'bueno', 'bueno', 'bueno', 'bueno', 'bueno', 'bueno', 'bueno', 'bueno', 'bueno']\n"
     ]
    }
   ],
   "source": [
    "import random\n",
    "\n",
    "n = 50  # Longitud deseada de la lista\n",
    "elementos = [\"bueno\", \"malo\", \"mas o menos\"]  # Elementos posibles\n",
    "\n",
    "huevos = [random.choice(elementos) for _ in range(n)]\n",
    "hist_huevos_cambiados = list()\n",
    "huevos_buenos = 0\n",
    "huevos_malos = 0\n",
    "huevos_otros = 0\n",
    "for posicion_huevo in range(0, len(huevos)):\n",
    "    if huevos[posicion_huevo] == 'malo':\n",
    "        huevos_malos += 1\n",
    "    elif huevos[posicion_huevo] == 'bueno':\n",
    "        huevos_buenos += 1\n",
    "    else:\n",
    "        huevos_otros += 1\n",
    "    \n",
    "    if huevos[posicion_huevo] == 'malo' or huevos[posicion_huevo] != 'bueno':\n",
    "        # print(\"Se cambia el huevo porque salio \"+ huevos[posicion_huevo])\n",
    "        huevos[posicion_huevo] = \"bueno\"\n",
    "        hist_huevos_cambiados.append(posicion_huevo)\n",
    "\n",
    "\n",
    "print(\"hay {} huevos buenos, {} huevos malos y {} huevos indefinidos\".format(huevos_buenos,huevos_malos,huevos_otros))\n",
    "print(f\"se cambiaron los huevos: {hist_huevos_cambiados}\")\n",
    "\n",
    "print(huevos)"
   ]
  }
 ],
 "metadata": {
  "kernelspec": {
   "display_name": "Python 3",
   "language": "python",
   "name": "python3"
  },
  "language_info": {
   "codemirror_mode": {
    "name": "ipython",
    "version": 3
   },
   "file_extension": ".py",
   "mimetype": "text/x-python",
   "name": "python",
   "nbconvert_exporter": "python",
   "pygments_lexer": "ipython3",
   "version": "3.8.16"
  },
  "orig_nbformat": 4
 },
 "nbformat": 4,
 "nbformat_minor": 2
}
