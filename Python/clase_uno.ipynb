{
 "cells": [
  {
   "cell_type": "code",
   "execution_count": 6,
   "metadata": {},
   "outputs": [
    {
     "data": {
      "text/plain": [
       "'Amaru Fernandez'"
      ]
     },
     "execution_count": 6,
     "metadata": {},
     "output_type": "execute_result"
    }
   ],
   "source": [
    "# Esto es un comentario\n",
    "\n",
    "'''\n",
    "Desarrollador: Amaru Fernandez\n",
    "Ubicacion: santiago\n",
    "Version python: 3.8\n",
    "'''\n",
    "\n",
    "nombre = \"Amaru\"\n",
    "apellido = \"Fernandez\"\n",
    "nombre_completo = nombre + \" \" + apellido\n",
    "nombre_completo"
   ]
  },
  {
   "cell_type": "code",
   "execution_count": 62,
   "metadata": {},
   "outputs": [
    {
     "name": "stdout",
     "output_type": "stream",
     "text": [
      "1\n",
      "22\n",
      "3\n",
      "4\n",
      "55\n",
      "6\n",
      "Fri May 26 20:00:58 2023\n",
      "fin\n"
     ]
    }
   ],
   "source": [
    "import time\n",
    "\n",
    "# Ejemplo 1: Iterando sobre una lista\n",
    "numeros = [1, 22, 3, 4, 55, 6]\n",
    "for numero in numeros:\n",
    "    print(numero)\n",
    "\n",
    "time.sleep(0.3)\n",
    "ahora = time.ctime()\n",
    "\n",
    "print(ahora)\n",
    "print(\"fin\")\n"
   ]
  },
  {
   "cell_type": "code",
   "execution_count": 12,
   "metadata": {},
   "outputs": [
    {
     "name": "stdout",
     "output_type": "stream",
     "text": [
      "H\n",
      "o\n",
      "l\n",
      "a\n",
      ",\n",
      " \n",
      "m\n",
      "u\n",
      "n\n",
      "d\n",
      "o\n",
      "!\n",
      "1\n",
      "2\n",
      "3\n",
      "4\n",
      "5\n"
     ]
    }
   ],
   "source": [
    "# Ejemplo 2: Iterando sobre una cadena de texto\n",
    "mensaje = \"Hola, mundo!\"\n",
    "for caracter in mensaje:\n",
    "    print(caracter)\n",
    "\n",
    "# Ejemplo 3: Iterando sobre un rango de números\n",
    "for i in range(1, 6):\n",
    "    print(i)"
   ]
  },
  {
   "cell_type": "code",
   "execution_count": 21,
   "metadata": {},
   "outputs": [
    {
     "name": "stdout",
     "output_type": "stream",
     "text": [
      "Se cambia el huevo porque salio malo\n",
      "Se cambia el huevo porque salio mas o menos\n",
      "hay 5 huevos buenos, 1 huevos malos y 1 huevos indefinidos\n",
      "['bueno', 'bueno', 'malo', 'bueno', 'bueno', 'bueno', 'mas o menos']\n"
     ]
    }
   ],
   "source": [
    "huevos = ['bueno', 'bueno', 'malo', 'bueno', 'bueno', 'bueno', \"mas o menos\"]\n",
    "huevos_buenos = 0\n",
    "huevos_malos = 0\n",
    "huevos_otros = 0\n",
    "for huevo in huevos:\n",
    "    if huevo == 'malo':\n",
    "        huevos_malos += 1\n",
    "    elif huevo == 'bueno':\n",
    "        huevos_buenos += 1\n",
    "    else:\n",
    "        huevos_otros += 1\n",
    "    \n",
    "    if huevo == 'malo' or huevo != 'bueno':\n",
    "        print(\"Se cambia el huevo porque salio \"+ huevo)\n",
    "\n",
    "\n",
    "print(\"hay {} huevos buenos, {} huevos malos y {} huevos indefinidos\".format(huevos_buenos,huevos_malos,huevos_otros))\n",
    "\n",
    "## Otras formas de concatenar informacion\n",
    "# print(\"hay \" + str(huevos_buenos) + \" huevos buenos y \" + str(huevos_malos) + \" huevos malos\")\n",
    "# print(f\"hay {huevos_buenos} huevos buenos y {huevos_malos} huevos malos\")\n",
    "print(huevos)"
   ]
  },
  {
   "cell_type": "code",
   "execution_count": 31,
   "metadata": {},
   "outputs": [
    {
     "name": "stdout",
     "output_type": "stream",
     "text": [
      "Se cambia el huevo porque salio malo\n",
      "Se cambia el huevo porque salio mas o menos\n",
      "hay 5 huevos buenos, 1 huevos malos y 1 huevos indefinidos\n",
      "se cambiaron los huevos: [2, 6]\n",
      "['bueno', 'bueno', 'bueno', 'bueno', 'bueno', 'bueno', 'bueno']\n"
     ]
    }
   ],
   "source": [
    "huevos = ['bueno', 'bueno', 'malo', 'bueno', 'bueno', 'bueno', \"mas o menos\"]\n",
    "hist_huevos_cambiados = list()\n",
    "huevos_buenos = 0\n",
    "huevos_malos = 0\n",
    "huevos_otros = 0\n",
    "for posicion_huevo in range(0, len(huevos)):\n",
    "    if huevos[posicion_huevo] == 'malo':\n",
    "        huevos_malos += 1\n",
    "    elif huevos[posicion_huevo] == 'bueno':\n",
    "        huevos_buenos += 1\n",
    "    else:\n",
    "        huevos_otros += 1\n",
    "    \n",
    "    if huevos[posicion_huevo] == 'malo' or huevos[posicion_huevo] != 'bueno':\n",
    "        print(\"Se cambia el huevo porque salio \"+ huevos[posicion_huevo])\n",
    "        huevos[posicion_huevo] = \"bueno\"\n",
    "        hist_huevos_cambiados.append(posicion_huevo)\n",
    "\n",
    "\n",
    "print(\"hay {} huevos buenos, {} huevos malos y {} huevos indefinidos\".format(huevos_buenos,huevos_malos,huevos_otros))\n",
    "print(f\"se cambiaron los huevos: {hist_huevos_cambiados}\")\n",
    "\n",
    "## Otras formas de concatenar informacion\n",
    "# print(\"hay \" + str(huevos_buenos) + \" huevos buenos y \" + str(huevos_malos) + \" huevos malos\")\n",
    "# print(f\"hay {huevos_buenos} huevos buenos y {huevos_malos} huevos malos\")\n",
    "print(huevos)"
   ]
  },
  {
   "cell_type": "code",
   "execution_count": 6,
   "metadata": {},
   "outputs": [
    {
     "name": "stdout",
     "output_type": "stream",
     "text": [
      "['malo', 'malo', 'bueno', 'malo', 'bueno', 'malo', 'mas o menos', 'mas o menos', 'mas o menos', 'mas o menos']\n"
     ]
    }
   ],
   "source": [
    "import random\n",
    "\n",
    "n = 10  # Longitud deseada de la lista\n",
    "elementos = [\"bueno\", \"malo\", \"mas o menos\"]  # Elementos posibles\n",
    "\n",
    "lista_aleatoria = [random.choice(elementos) for _ in range(n)]\n",
    "print(lista_aleatoria)"
   ]
  },
  {
   "cell_type": "code",
   "execution_count": 21,
   "metadata": {},
   "outputs": [
    {
     "data": {
      "text/plain": [
       "['malo',\n",
       " 'malo',\n",
       " 'bueno',\n",
       " 'malo',\n",
       " 'bueno',\n",
       " 'malo',\n",
       " 'mas o menos',\n",
       " 'mas o menos',\n",
       " 'mas o menos',\n",
       " 'mas o menos']"
      ]
     },
     "execution_count": 21,
     "metadata": {},
     "output_type": "execute_result"
    }
   ],
   "source": [
    "lista_aleatoria[:]"
   ]
  },
  {
   "cell_type": "code",
   "execution_count": 35,
   "metadata": {},
   "outputs": [
    {
     "name": "stdout",
     "output_type": "stream",
     "text": [
      "hay 16 huevos buenos, 12 huevos malos y 22 huevos indefinidos\n",
      "se cambiaron los huevos: [0, 2, 3, 4, 5, 6, 7, 8, 10, 11, 12, 14, 15, 18, 19, 20, 21, 22, 23, 25, 26, 28, 29, 32, 35, 37, 38, 40, 41, 42, 43, 44, 45, 46]\n",
      "['bueno', 'bueno', 'bueno', 'bueno', 'bueno', 'bueno', 'bueno', 'bueno', 'bueno', 'bueno', 'bueno', 'bueno', 'bueno', 'bueno', 'bueno', 'bueno', 'bueno', 'bueno', 'bueno', 'bueno', 'bueno', 'bueno', 'bueno', 'bueno', 'bueno', 'bueno', 'bueno', 'bueno', 'bueno', 'bueno', 'bueno', 'bueno', 'bueno', 'bueno', 'bueno', 'bueno', 'bueno', 'bueno', 'bueno', 'bueno', 'bueno', 'bueno', 'bueno', 'bueno', 'bueno', 'bueno', 'bueno', 'bueno', 'bueno', 'bueno']\n"
     ]
    }
   ],
   "source": [
    "import random\n",
    "\n",
    "n = 50  # Longitud deseada de la lista\n",
    "elementos = [\"bueno\", \"malo\", \"mas o menos\"]  # Elementos posibles\n",
    "\n",
    "huevos = [random.choice(elementos) for _ in range(n)]\n",
    "hist_huevos_cambiados = list()\n",
    "huevos_buenos = 0\n",
    "huevos_malos = 0\n",
    "huevos_otros = 0\n",
    "for posicion_huevo in range(0, len(huevos)):\n",
    "    if huevos[posicion_huevo] == 'malo':\n",
    "        huevos_malos += 1\n",
    "    elif huevos[posicion_huevo] == 'bueno':\n",
    "        huevos_buenos += 1\n",
    "    else:\n",
    "        huevos_otros += 1\n",
    "    \n",
    "    if huevos[posicion_huevo] == 'malo' or huevos[posicion_huevo] != 'bueno':\n",
    "        # print(\"Se cambia el huevo porque salio \"+ huevos[posicion_huevo])\n",
    "        huevos[posicion_huevo] = \"bueno\"\n",
    "        hist_huevos_cambiados.append(posicion_huevo)\n",
    "\n",
    "\n",
    "print(\"hay {} huevos buenos, {} huevos malos y {} huevos indefinidos\".format(huevos_buenos,huevos_malos,huevos_otros))\n",
    "print(f\"se cambiaron los huevos: {hist_huevos_cambiados}\")\n",
    "\n",
    "print(huevos)"
   ]
  },
  {
   "cell_type": "code",
   "execution_count": 31,
   "metadata": {},
   "outputs": [
    {
     "name": "stdout",
     "output_type": "stream",
     "text": [
      "<class 'dict'>\n",
      "{'nom': 'Antonia', 'ape_pat': 'Fernándes'}\n",
      "Antonia\n"
     ]
    }
   ],
   "source": [
    "# viendo diccionario\n",
    "dict_comprador = dict()\n",
    "\n",
    "# verificando el tipo de dato\n",
    "print(type(dict_comprador))\n",
    "\n",
    "\n",
    "dict_comprador['nom'] = \"Antonia\"\n",
    "dict_comprador['ape_pat'] = \"Fernándes\"\n",
    "\n",
    "\n",
    "print(dict_comprador)\n",
    "\n",
    "print(dict_comprador['nom'])\n"
   ]
  },
  {
   "cell_type": "code",
   "execution_count": 26,
   "metadata": {},
   "outputs": [
    {
     "name": "stdout",
     "output_type": "stream",
     "text": [
      "b 2\n",
      "d 4\n",
      "c 3\n",
      "a 1\n"
     ]
    }
   ],
   "source": [
    "import random\n",
    "\n",
    "diccionario = {'a': 1, 'b': 2, 'c': 3, 'd': 4}\n",
    "claves = list(diccionario.keys())\n",
    "random.shuffle(claves)\n",
    "\n",
    "for clave in claves:\n",
    "    valor = diccionario[clave]\n",
    "    print(clave, valor)\n"
   ]
  },
  {
   "cell_type": "code",
   "execution_count": 42,
   "metadata": {},
   "outputs": [
    {
     "name": "stdout",
     "output_type": "stream",
     "text": [
      "<class 'dict'>\n",
      "<class 'list'>\n",
      "<class 'dict'>\n",
      "2023-05-26T04:00:00.000Z\n"
     ]
    }
   ],
   "source": [
    "mi_uf = {\n",
    "  \"version\": \"1.7.0\",\n",
    "  \"autor\": \"mindicador.cl\",\n",
    "  \"codigo\": \"uf\",\n",
    "  \"nombre\": \"Unidad de fomento (UF)\",\n",
    "  \"unidad_medida\": \"Pesos\",\n",
    "  \"serie\": [\n",
    "    {\n",
    "      \"fecha\": \"2023-05-26T04:00:00.000Z\",\n",
    "      \"valor\": 36015.48\n",
    "    },\n",
    "    {\n",
    "      \"fecha\": \"2023-05-25T04:00:00.000Z\",\n",
    "      \"valor\": 36012\n",
    "    }\n",
    "  ]\n",
    "}\n",
    "print(type(mi_uf))\n",
    "\n",
    "serie = mi_uf['serie']\n",
    "print(type(serie))\n",
    "print(type(serie[0]))\n",
    "print(serie[0]['fecha'])\n"
   ]
  },
  {
   "cell_type": "code",
   "execution_count": 35,
   "metadata": {},
   "outputs": [
    {
     "name": "stdout",
     "output_type": "stream",
     "text": [
      "<class 'dict'>\n"
     ]
    },
    {
     "data": {
      "text/plain": [
       "{0: {'fecha': '2023-05-26T04:00:00.000Z', 'valor': 36015.48},\n",
       " 1: {'fecha': '2023-05-25T04:00:00.000Z', 'valor': 36012}}"
      ]
     },
     "execution_count": 35,
     "metadata": {},
     "output_type": "execute_result"
    }
   ],
   "source": [
    "mi_uf = {\n",
    "  \"version\": \"1.7.0\",\n",
    "  \"autor\": \"mindicador.cl\",\n",
    "  \"codigo\": \"uf\",\n",
    "  \"nombre\": \"Unidad de fomento (UF)\",\n",
    "  \"unidad_medida\": \"Pesos\",\n",
    "  \"serie\": { \n",
    "    0 : {\n",
    "      \"fecha\": \"2023-05-26T04:00:00.000Z\",\n",
    "      \"valor\": 36015.48\n",
    "    },\n",
    "    1 : {\n",
    "      \"fecha\": \"2023-05-25T04:00:00.000Z\",\n",
    "      \"valor\": 36012\n",
    "    }\n",
    "  }\n",
    "}\n",
    "print(type(mi_uf))\n",
    "\n",
    "mi_uf['serie']"
   ]
  },
  {
   "cell_type": "code",
   "execution_count": 56,
   "metadata": {},
   "outputs": [
    {
     "name": "stdout",
     "output_type": "stream",
     "text": [
      "2023-05-26 04:00:00\n"
     ]
    }
   ],
   "source": [
    "from datetime import datetime\n",
    "\n",
    "texto_fecha = \"2023-05-26T04:00:00.000Z\"\n",
    "fecha = datetime.strptime(texto_fecha, \"%Y-%m-%dT%H:%M:%S.%fZ\")\n",
    "\n",
    "print(fecha)"
   ]
  },
  {
   "cell_type": "code",
   "execution_count": 57,
   "metadata": {},
   "outputs": [
    {
     "name": "stdout",
     "output_type": "stream",
     "text": [
      "Collecting numpy\n",
      "  Downloading numpy-1.24.3-cp38-cp38-macosx_10_9_x86_64.whl (19.8 MB)\n",
      "\u001b[2K     \u001b[90m━━━━━━━━━━━━━━━━━━━━━━━━━━━━━━━━━━━━━━━━\u001b[0m \u001b[32m19.8/19.8 MB\u001b[0m \u001b[31m12.2 MB/s\u001b[0m eta \u001b[36m0:00:00\u001b[0m00:01\u001b[0m00:01\u001b[0m\n",
      "\u001b[?25hInstalling collected packages: numpy\n",
      "Successfully installed numpy-1.24.3\n",
      "\u001b[33mWARNING: You are using pip version 22.0.4; however, version 23.1.2 is available.\n",
      "You should consider upgrading via the '/Users/amaru/.pyenv/versions/3.8.16/bin/python3.8 -m pip install --upgrade pip' command.\u001b[0m\u001b[33m\n",
      "\u001b[0m"
     ]
    }
   ],
   "source": [
    "!#pip install numpy"
   ]
  },
  {
   "cell_type": "code",
   "execution_count": 60,
   "metadata": {},
   "outputs": [],
   "source": [
    "import numpy as np"
   ]
  },
  {
   "cell_type": "code",
   "execution_count": 79,
   "metadata": {},
   "outputs": [
    {
     "name": "stdout",
     "output_type": "stream",
     "text": [
      "26\n",
      "(4, 3, 5)\n"
     ]
    }
   ],
   "source": [
    "arreglo_np = np.array([22,23,63,52,42])\n",
    "arreglo_np = np.array([[22,23,63,52,42],[84,26,25,24,34]])\n",
    "arreglo_np = np.array([\n",
    "                       [[22,23,63,52,42],[84,26,25,24,34],[22,23,63,52,42]],\n",
    "                       [[22,23,63,52,42],[84,26,25,24,34],[22,23,63,52,42]],\n",
    "                       [[22,23,63,52,42],[84,26,25,24,34],[22,23,63,52,42]],\n",
    "                       [[22,23,63,52,42],[84,26,25,24,34],[22,23,63,52,42]]\n",
    "                       ])\n",
    "print(arreglo_np[1,1,1])\n",
    "print(arreglo_np.shape)"
   ]
  },
  {
   "cell_type": "code",
   "execution_count": 101,
   "metadata": {},
   "outputs": [],
   "source": [
    "arreglo_np = arreglo_np.reshape(2, 2,-1)"
   ]
  },
  {
   "cell_type": "code",
   "execution_count": 102,
   "metadata": {},
   "outputs": [
    {
     "data": {
      "text/plain": [
       "(2, 2, 15)"
      ]
     },
     "execution_count": 102,
     "metadata": {},
     "output_type": "execute_result"
    }
   ],
   "source": [
    "arreglo_np.shape"
   ]
  },
  {
   "cell_type": "code",
   "execution_count": 113,
   "metadata": {},
   "outputs": [
    {
     "data": {
      "text/plain": [
       "array([[[11, 11, 31, 26, 21, 42, 13, 12, 12, 17, 11, 11, 31, 26, 21],\n",
       "        [11, 11, 31, 26, 21, 42, 13, 12, 12, 17, 11, 11, 31, 26, 21]],\n",
       "\n",
       "       [[11, 11, 31, 26, 21, 42, 13, 12, 12, 17, 11, 11, 31, 26, 21],\n",
       "        [11, 11, 31, 26, 21, 42, 13, 12, 12, 17, 11, 11, 31, 26, 21]]])"
      ]
     },
     "execution_count": 113,
     "metadata": {},
     "output_type": "execute_result"
    }
   ],
   "source": [
    "arreglo_np % 2"
   ]
  },
  {
   "cell_type": "code",
   "execution_count": 104,
   "metadata": {},
   "outputs": [
    {
     "name": "stdout",
     "output_type": "stream",
     "text": [
      "[22 23 63 52 42 84 26 25 24 34 22 23 63 52 42]\n",
      "[22 23 63 52 42 84 26 25 24 34 22 23 63 52 42]\n",
      "[22 23 63 52 42 84 26 25 24 34 22 23 63 52 42]\n",
      "[22 23 63 52 42 84 26 25 24 34 22 23 63 52 42]\n"
     ]
    }
   ],
   "source": [
    "for fila in arreglo_np:\n",
    "    for elemento in fila:\n",
    "        print(elemento)"
   ]
  },
  {
   "cell_type": "code",
   "execution_count": null,
   "metadata": {},
   "outputs": [],
   "source": [
    "for elemento in np.nditer(arreglo_np):\n",
    "    print(elemento)"
   ]
  },
  {
   "cell_type": "code",
   "execution_count": null,
   "metadata": {},
   "outputs": [],
   "source": [
    "for elemento in arreglo_np.flat:\n",
    "    print(elemento)"
   ]
  },
  {
   "cell_type": "code",
   "execution_count": 108,
   "metadata": {},
   "outputs": [
    {
     "name": "stdout",
     "output_type": "stream",
     "text": [
      "[44 44]\n",
      "[44 44]\n",
      "[46 46]\n",
      "[46 46]\n",
      "[126 126]\n",
      "[126 126]\n",
      "[104 104]\n",
      "[104 104]\n",
      "[84 84]\n",
      "[84 84]\n",
      "[168 168]\n",
      "[168 168]\n",
      "[52 52]\n",
      "[52 52]\n",
      "[50 50]\n",
      "[50 50]\n",
      "[48 48]\n",
      "[48 48]\n",
      "[68 68]\n",
      "[68 68]\n",
      "[44 44]\n",
      "[44 44]\n",
      "[46 46]\n",
      "[46 46]\n",
      "[126 126]\n",
      "[126 126]\n",
      "[104 104]\n",
      "[104 104]\n",
      "[84 84]\n",
      "[84 84]\n"
     ]
    }
   ],
   "source": [
    "for columna in np.transpose(arreglo_np):\n",
    "    for elemento in columna:\n",
    "        print(elemento*2)"
   ]
  },
  {
   "cell_type": "code",
   "execution_count": null,
   "metadata": {},
   "outputs": [],
   "source": []
  }
 ],
 "metadata": {
  "kernelspec": {
   "display_name": "Python 3",
   "language": "python",
   "name": "python3"
  },
  "language_info": {
   "codemirror_mode": {
    "name": "ipython",
    "version": 3
   },
   "file_extension": ".py",
   "mimetype": "text/x-python",
   "name": "python",
   "nbconvert_exporter": "python",
   "pygments_lexer": "ipython3",
   "version": "3.8.16"
  },
  "orig_nbformat": 4
 },
 "nbformat": 4,
 "nbformat_minor": 2
}
