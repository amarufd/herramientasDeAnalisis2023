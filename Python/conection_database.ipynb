{
 "cells": [
  {
   "cell_type": "code",
   "execution_count": 10,
   "metadata": {},
   "outputs": [],
   "source": [
    "import pymysql as mysql\n",
    "from sshtunnel import SSHTunnelForwarder\n",
    "import pandas as pd\n",
    "import json\n",
    "\n",
    "creds = json.load(open('docs/cred_db.json', 'r'))"
   ]
  },
  {
   "cell_type": "code",
   "execution_count": 11,
   "metadata": {},
   "outputs": [],
   "source": [
    "ssh_host = creds['SSH_HOST']\n",
    "ssh_port = 22\n",
    "ssh_user = creds['SSH_USER']\n",
    "ssh_pass = creds['SSH_PASS']\n",
    "\n",
    "db_port = creds['DB_PORT']\n",
    "db_ip = 'localhost'\n",
    "db_user = creds['DB_USER']\n",
    "db_pass = creds['DB_PASS']\n",
    "db_name = creds['DB_NAME']"
   ]
  },
  {
   "cell_type": "markdown",
   "metadata": {},
   "source": [
    "# Creando tunnel\n",
    "Esto solo es necesario para la conección con el servidor de DataFae por el modo en que se administra la conecion"
   ]
  },
  {
   "cell_type": "code",
   "execution_count": 12,
   "metadata": {},
   "outputs": [],
   "source": [
    "ssh_tunnel =  SSHTunnelForwarder(\n",
    "                (ssh_host,ssh_port),\n",
    "                ssh_username=ssh_user,\n",
    "                ssh_password=ssh_pass,\n",
    "                allow_agent=False,\n",
    "                remote_bind_address=(db_ip, db_port))\n",
    "\n",
    "ssh_tunnel.start()\n"
   ]
  },
  {
   "cell_type": "markdown",
   "metadata": {},
   "source": [
    "# Conectando con la Base de Datos"
   ]
  },
  {
   "cell_type": "code",
   "execution_count": 13,
   "metadata": {},
   "outputs": [],
   "source": [
    "try:\n",
    "       conn = mysql.connect(\n",
    "              host='localhost',\n",
    "              port=ssh_tunnel.local_bind_port,\n",
    "              user=db_user,\n",
    "              password=db_pass,\n",
    "              database=db_name)\n",
    "       cur = conn.cursor()    \n",
    "except Exception as e:\n",
    "       print(e)\n",
    "       "
   ]
  },
  {
   "cell_type": "markdown",
   "metadata": {},
   "source": [
    "# Simple"
   ]
  },
  {
   "cell_type": "code",
   "execution_count": 5,
   "metadata": {},
   "outputs": [
    {
     "data": {
      "text/plain": [
       "[{'name': 'Ariam Aranda Reyes', 'rut': None},\n",
       " {'name': 'Amaru Fernandez Durán', 'rut': None},\n",
       " {'name': 'Diana López Áviles', 'rut': None},\n",
       " {'name': 'Constanza Tobar Riquelme', 'rut': None},\n",
       " {'name': 'Claudia Cordero Solis', 'rut': None},\n",
       " {'name': 'Victoria Aravena Opazo', 'rut': None},\n",
       " {'name': 'Sally Aranda Reyes', 'rut': None},\n",
       " {'name': 'Cecilia Reyes Vargas', 'rut': None},\n",
       " {'name': 'Ada Wynn Lunt', 'rut': None},\n",
       " {'name': 'Alicia Aranda Reyes', 'rut': None},\n",
       " {'name': 'Hilda Vicencio Serey', 'rut': None},\n",
       " {'name': 'Camila Carrasco Latin', 'rut': None},\n",
       " {'name': 'Camila Carrasco Latin', 'rut': None},\n",
       " {'name': 'Camila Carrasco Latin', 'rut': None},\n",
       " {'name': 'Camila Carrasco Latin', 'rut': None},\n",
       " {'name': 'Camila Carrasco Latin', 'rut': None},\n",
       " {'name': 'Camila Carrasco Latin', 'rut': None},\n",
       " {'name': 'RODRIGO LEFIN', 'rut': None},\n",
       " {'name': 'Camila Carrasco Latin', 'rut': None},\n",
       " {'name': 'CAMILA CARRASCO', 'rut': None},\n",
       " {'name': 'Juan Vicenzio', 'rut': '17984785-2'},\n",
       " {'name': 'Juan Lipán M', 'rut': '1234567890'},\n",
       " {'name': 'Juan Z89JQP', 'rut': '99765930-k'}]"
      ]
     },
     "execution_count": 5,
     "metadata": {},
     "output_type": "execute_result"
    }
   ],
   "source": [
    "query=\"SELECT NOMBRE, RUT FROM CLIENTES\"\n",
    "cur.execute(query)\n",
    "response = cur.fetchall()\n",
    "\n",
    "personas = []\n",
    "for row in response:\n",
    "    persona = {\n",
    "        \"name\":row[0],\n",
    "        \"rut\":row[1]\n",
    "    }\n",
    "    personas.append(persona)\n",
    "\n",
    "personas"
   ]
  },
  {
   "cell_type": "code",
   "execution_count": 16,
   "metadata": {},
   "outputs": [
    {
     "data": {
      "text/plain": [
       "((5000, 1990, 6, Decimal('4096.6667')),)"
      ]
     },
     "execution_count": 16,
     "metadata": {},
     "output_type": "execute_result"
    }
   ],
   "source": [
    "query=\"\"\"\n",
    "SELECT MAX(PRECIO) PRECIO_MAX, MIN(PRECIO) PRECIO_MIN, COUNT(*) CONTEO,\n",
    "       AVG(PRECIO) PROMEDIO\n",
    "FROM PRODUCTOS\n",
    "WHERE TIPO_PRODUCTO_ID in (1,2,3,4)\n",
    "\"\"\"\n",
    "cur.execute(query)\n",
    "response = cur.fetchall()\n",
    "\n",
    "response"
   ]
  },
  {
   "cell_type": "markdown",
   "metadata": {},
   "source": [
    "# Con Pandas"
   ]
  },
  {
   "cell_type": "code",
   "execution_count": 15,
   "metadata": {},
   "outputs": [
    {
     "data": {
      "text/html": [
       "<div>\n",
       "<style scoped>\n",
       "    .dataframe tbody tr th:only-of-type {\n",
       "        vertical-align: middle;\n",
       "    }\n",
       "\n",
       "    .dataframe tbody tr th {\n",
       "        vertical-align: top;\n",
       "    }\n",
       "\n",
       "    .dataframe thead th {\n",
       "        text-align: right;\n",
       "    }\n",
       "</style>\n",
       "<table border=\"1\" class=\"dataframe\">\n",
       "  <thead>\n",
       "    <tr style=\"text-align: right;\">\n",
       "      <th></th>\n",
       "      <th>PRECIO_MAX</th>\n",
       "      <th>PRECIO_MIN</th>\n",
       "      <th>CONTEO</th>\n",
       "      <th>PROMEDIO</th>\n",
       "    </tr>\n",
       "  </thead>\n",
       "  <tbody>\n",
       "    <tr>\n",
       "      <th>0</th>\n",
       "      <td>5000</td>\n",
       "      <td>1990</td>\n",
       "      <td>6</td>\n",
       "      <td>4096.6667</td>\n",
       "    </tr>\n",
       "  </tbody>\n",
       "</table>\n",
       "</div>"
      ],
      "text/plain": [
       "   PRECIO_MAX  PRECIO_MIN  CONTEO   PROMEDIO\n",
       "0        5000        1990       6  4096.6667"
      ]
     },
     "execution_count": 15,
     "metadata": {},
     "output_type": "execute_result"
    }
   ],
   "source": [
    "query=\"\"\"\n",
    "SELECT MAX(PRECIO) PRECIO_MAX, MIN(PRECIO) PRECIO_MIN, COUNT(*) CONTEO,\n",
    "       AVG(PRECIO) PROMEDIO\n",
    "FROM PRODUCTOS\n",
    "WHERE TIPO_PRODUCTO_ID in (1,2,3,4)\n",
    "\"\"\"\n",
    "response = pd.read_sql_query(query,conn)\n",
    "response"
   ]
  },
  {
   "cell_type": "markdown",
   "metadata": {},
   "source": [
    "# Cerrando conecciones"
   ]
  },
  {
   "cell_type": "code",
   "execution_count": 7,
   "metadata": {},
   "outputs": [
    {
     "data": {
      "text/plain": [
       "<bound method SSHTunnelForwarder.close of <class 'sshtunnel.SSHTunnelForwarder'> object\n",
       "ssh gateway: 146.83.189.110:22\n",
       "proxy: no\n",
       "username: laboratorio\n",
       "authentication: {'password': 'datafae2022'}\n",
       "hostkey: not checked\n",
       "status: started\n",
       "keepalive messages: every 5.0 sec\n",
       "tunnel connection check: disabled\n",
       "concurrent connections: allowed\n",
       "compression: not requested\n",
       "logging level: ERROR\n",
       "local binds: [('0.0.0.0', 0)]\n",
       "remote binds: [('localhost', 33060)]>"
      ]
     },
     "execution_count": 7,
     "metadata": {},
     "output_type": "execute_result"
    }
   ],
   "source": [
    "conn.close()\n",
    "ssh_tunnel.close"
   ]
  }
 ],
 "metadata": {
  "kernelspec": {
   "display_name": "Python 3.8.11 64-bit ('3.8.11')",
   "language": "python",
   "name": "python3"
  },
  "language_info": {
   "codemirror_mode": {
    "name": "ipython",
    "version": 3
   },
   "file_extension": ".py",
   "mimetype": "text/x-python",
   "name": "python",
   "nbconvert_exporter": "python",
   "pygments_lexer": "ipython3",
   "version": "3.8.11"
  },
  "orig_nbformat": 4,
  "vscode": {
   "interpreter": {
    "hash": "8f49d0a2ccb4f97d01c250111adf553a964e7903b00b36a23a22a6d59366461d"
   }
  }
 },
 "nbformat": 4,
 "nbformat_minor": 2
}
