{
 "cells": [
  {
   "cell_type": "code",
   "execution_count": 1,
   "metadata": {},
   "outputs": [],
   "source": [
    "from utils import DatabaseConnection\n",
    "import matplotlib.pyplot as plt\n",
    "\n",
    "path = ''\n",
    "conn = DatabaseConnection(path + \"cred_db.json\")\n",
    "conn.connect()"
   ]
  },
  {
   "attachments": {},
   "cell_type": "markdown",
   "metadata": {},
   "source": [
    "# Con Pandas"
   ]
  },
  {
   "cell_type": "code",
   "execution_count": 2,
   "metadata": {},
   "outputs": [
    {
     "name": "stdout",
     "output_type": "stream",
     "text": [
      "Falta coneccion con la base de datos\n"
     ]
    }
   ],
   "source": [
    "query=\"\"\"\n",
    "SELECT MAX(PRECIO) PRECIO_MAX, MIN(PRECIO) PRECIO_MIN, COUNT(*) CONTEO,\n",
    "       AVG(PRECIO) PROMEDIO\n",
    "FROM PRODUCTOS\n",
    "\"\"\"\n",
    "response = conn.execute_query(query)\n",
    "response"
   ]
  },
  {
   "cell_type": "code",
   "execution_count": 3,
   "metadata": {},
   "outputs": [
    {
     "name": "stdout",
     "output_type": "stream",
     "text": [
      "Falta coneccion con la base de datos\n"
     ]
    }
   ],
   "source": [
    "query=\"\"\"\n",
    "SELECT PRECIO\n",
    "FROM PRODUCTOS\n",
    "\"\"\"\n",
    "response = conn.execute_query(query)\n",
    "response"
   ]
  },
  {
   "cell_type": "code",
   "execution_count": 4,
   "metadata": {},
   "outputs": [
    {
     "ename": "TypeError",
     "evalue": "'NoneType' object is not subscriptable",
     "output_type": "error",
     "traceback": [
      "\u001b[0;31m---------------------------------------------------------------------------\u001b[0m",
      "\u001b[0;31mTypeError\u001b[0m                                 Traceback (most recent call last)",
      "Cell \u001b[0;32mIn[4], line 1\u001b[0m\n\u001b[0;32m----> 1\u001b[0m response[\u001b[39m'\u001b[39;49m\u001b[39mPRECIO\u001b[39;49m\u001b[39m'\u001b[39;49m]\u001b[39m.\u001b[39mplot\u001b[39m.\u001b[39mhist(bins\u001b[39m=\u001b[39m\u001b[39m15\u001b[39m)\n",
      "\u001b[0;31mTypeError\u001b[0m: 'NoneType' object is not subscriptable"
     ]
    }
   ],
   "source": [
    "response['PRECIO'].plot.hist(bins=15)"
   ]
  },
  {
   "cell_type": "code",
   "execution_count": null,
   "metadata": {},
   "outputs": [
    {
     "data": {
      "text/html": [
       "<div>\n",
       "<style scoped>\n",
       "    .dataframe tbody tr th:only-of-type {\n",
       "        vertical-align: middle;\n",
       "    }\n",
       "\n",
       "    .dataframe tbody tr th {\n",
       "        vertical-align: top;\n",
       "    }\n",
       "\n",
       "    .dataframe thead th {\n",
       "        text-align: right;\n",
       "    }\n",
       "</style>\n",
       "<table border=\"1\" class=\"dataframe\">\n",
       "  <thead>\n",
       "    <tr style=\"text-align: right;\">\n",
       "      <th></th>\n",
       "      <th>PRECIO</th>\n",
       "      <th>PRODUCTO</th>\n",
       "    </tr>\n",
       "  </thead>\n",
       "  <tbody>\n",
       "    <tr>\n",
       "      <th>0</th>\n",
       "      <td>5000</td>\n",
       "      <td>El kybalion</td>\n",
       "    </tr>\n",
       "    <tr>\n",
       "      <th>1</th>\n",
       "      <td>4000</td>\n",
       "      <td>Los cuatro acuerdos</td>\n",
       "    </tr>\n",
       "    <tr>\n",
       "      <th>2</th>\n",
       "      <td>600000</td>\n",
       "      <td>Aspiradora inteligente</td>\n",
       "    </tr>\n",
       "    <tr>\n",
       "      <th>3</th>\n",
       "      <td>1500000</td>\n",
       "      <td>Bajo</td>\n",
       "    </tr>\n",
       "    <tr>\n",
       "      <th>4</th>\n",
       "      <td>13990</td>\n",
       "      <td>Arnes</td>\n",
       "    </tr>\n",
       "    <tr>\n",
       "      <th>5</th>\n",
       "      <td>5000</td>\n",
       "      <td>Jenga</td>\n",
       "    </tr>\n",
       "    <tr>\n",
       "      <th>6</th>\n",
       "      <td>4590</td>\n",
       "      <td>Cubiertos de bambu</td>\n",
       "    </tr>\n",
       "    <tr>\n",
       "      <th>7</th>\n",
       "      <td>4000</td>\n",
       "      <td>Paraguas</td>\n",
       "    </tr>\n",
       "    <tr>\n",
       "      <th>8</th>\n",
       "      <td>30000</td>\n",
       "      <td>Tambor</td>\n",
       "    </tr>\n",
       "    <tr>\n",
       "      <th>9</th>\n",
       "      <td>220000</td>\n",
       "      <td>Celular</td>\n",
       "    </tr>\n",
       "    <tr>\n",
       "      <th>10</th>\n",
       "      <td>8990</td>\n",
       "      <td>Audífonos</td>\n",
       "    </tr>\n",
       "    <tr>\n",
       "      <th>11</th>\n",
       "      <td>1990</td>\n",
       "      <td>Esponja fibra de coco</td>\n",
       "    </tr>\n",
       "  </tbody>\n",
       "</table>\n",
       "</div>"
      ],
      "text/plain": [
       "     PRECIO                PRODUCTO\n",
       "0      5000             El kybalion\n",
       "1      4000     Los cuatro acuerdos\n",
       "2    600000  Aspiradora inteligente\n",
       "3   1500000                    Bajo\n",
       "4     13990                   Arnes\n",
       "5      5000                   Jenga\n",
       "6      4590      Cubiertos de bambu\n",
       "7      4000                Paraguas\n",
       "8     30000                  Tambor\n",
       "9    220000                 Celular\n",
       "10     8990               Audífonos\n",
       "11     1990   Esponja fibra de coco"
      ]
     },
     "execution_count": 12,
     "metadata": {},
     "output_type": "execute_result"
    }
   ],
   "source": [
    "query=\"\"\"\n",
    "SELECT PRECIO, PRODUCTO\n",
    "FROM PRODUCTOS\n",
    "\"\"\"\n",
    "response = conn.execute_query(query)\n",
    "response"
   ]
  },
  {
   "cell_type": "code",
   "execution_count": null,
   "metadata": {},
   "outputs": [
    {
     "data": {
      "image/png": "[encoded data removed]",
      "text/plain": [
       "<Figure size 640x480 with 1 Axes>"
      ]
     },
     "metadata": {},
     "output_type": "display_data"
    }
   ],
   "source": [
    "response.plot.bar(y=\"PRECIO\", x = \"PRODUCTO\")\n",
    "plt.title('Grafico de Barras')\n",
    "plt.xlabel('Nombre Producto')\n",
    "plt.ylabel('Precio')\n",
    "plt.grid(True)\n",
    "\n",
    "#plt.show()\n",
    "\n",
    "plt.savefig( path + \"barras.png\" )"
   ]
  },
  {
   "attachments": {},
   "cell_type": "markdown",
   "metadata": {},
   "source": [
    "# Cerrando conecciones"
   ]
  },
  {
   "cell_type": "code",
   "execution_count": null,
   "metadata": {},
   "outputs": [
    {
     "data": {
      "text/plain": [
       "<bound method SSHTunnelForwarder.close of <class 'sshtunnel.SSHTunnelForwarder'> object\n",
       "ssh gateway: 146.83.191.71:22\n",
       "proxy: no\n",
       "username: laboratorio\n",
       "authentication: {'password': 'datafae2022'}\n",
       "hostkey: not checked\n",
       "status: started\n",
       "keepalive messages: every 5.0 sec\n",
       "tunnel connection check: disabled\n",
       "concurrent connections: allowed\n",
       "compression: not requested\n",
       "logging level: ERROR\n",
       "local binds: [('0.0.0.0', 0)]\n",
       "remote binds: [('localhost', 33060)]>"
      ]
     },
     "execution_count": 14,
     "metadata": {},
     "output_type": "execute_result"
    }
   ],
   "source": [
    "conn.disconnect()"
   ]
  }
 ],
 "metadata": {
  "kernelspec": {
   "display_name": "Python 3.8.11 64-bit ('3.8.11')",
   "language": "python",
   "name": "python3"
  },
  "language_info": {
   "codemirror_mode": {
    "name": "ipython",
    "version": 3
   },
   "file_extension": ".py",
   "mimetype": "text/x-python",
   "name": "python",
   "nbconvert_exporter": "python",
   "pygments_lexer": "ipython3",
   "version": "3.8.16"
  },
  "orig_nbformat": 4,
  "vscode": {
   "interpreter": {
    "hash": "8f49d0a2ccb4f97d01c250111adf553a964e7903b00b36a23a22a6d59366461d"
   }
  }
 },
 "nbformat": 4,
 "nbformat_minor": 2
}
