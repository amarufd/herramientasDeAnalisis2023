{
 "cells": [
  {
   "cell_type": "code",
   "execution_count": 6,
   "metadata": {},
   "outputs": [],
   "source": [
    "import json\n",
    "import sys\n",
    "from utils import str2date\n",
    "import requests\n",
    "import pandas as pd"
   ]
  },
  {
   "cell_type": "code",
   "execution_count": null,
   "metadata": {},
   "outputs": [],
   "source": [
    "# Ejemplo de diccionario\n",
    "diccionario = {\n",
    "    'nombre': 'Alice',\n",
    "    'edad': 25,\n",
    "    'ciudad': 'Londres'\n",
    "}"
   ]
  },
  {
   "cell_type": "code",
   "execution_count": 9,
   "metadata": {},
   "outputs": [],
   "source": [
    "# Guardar el diccionario en un archivo JSON\n",
    "with open('archivo.json', 'w') as archivo:\n",
    "    json.dump(diccionario, archivo)"
   ]
  },
  {
   "cell_type": "code",
   "execution_count": 3,
   "metadata": {},
   "outputs": [
    {
     "name": "stdout",
     "output_type": "stream",
     "text": [
      "Alice\n",
      "25\n",
      "Londres\n"
     ]
    }
   ],
   "source": [
    "# Abrir el archivo JSON\n",
    "with open('archivo.json', 'r') as archivo:\n",
    "    contenido = archivo.read()\n",
    "\n",
    "# Transformar el contenido JSON en un diccionario\n",
    "diccionario = json.loads(contenido)\n",
    "\n",
    "# Acceder a los datos del diccionario\n",
    "print(diccionario['nombre'])\n",
    "print(diccionario['edad'])\n",
    "print(diccionario['ciudad'])"
   ]
  },
  {
   "cell_type": "code",
   "execution_count": 4,
   "metadata": {},
   "outputs": [
    {
     "name": "stdout",
     "output_type": "stream",
     "text": [
      "Santiago\n"
     ]
    }
   ],
   "source": [
    "diccionario['ciudad'] = 'Santiago'\n",
    "print(diccionario['ciudad'])"
   ]
  },
  {
   "cell_type": "code",
   "execution_count": 7,
   "metadata": {},
   "outputs": [
    {
     "name": "stdout",
     "output_type": "stream",
     "text": [
      "Oses\n"
     ]
    }
   ],
   "source": [
    "diccionario['apellido'] = 'Oses'\n",
    "print(diccionario['apellido'])"
   ]
  },
  {
   "cell_type": "code",
   "execution_count": 8,
   "metadata": {},
   "outputs": [
    {
     "name": "stdout",
     "output_type": "stream",
     "text": [
      "Alice\n",
      "Oses\n",
      "25\n",
      "Santiago\n"
     ]
    }
   ],
   "source": [
    "print(diccionario['nombre'])\n",
    "print(diccionario['apellido'])\n",
    "print(diccionario['edad'])\n",
    "print(diccionario['ciudad'])"
   ]
  },
  {
   "cell_type": "code",
   "execution_count": 15,
   "metadata": {},
   "outputs": [],
   "source": [
    "# Abrir el archivo de texto en modo escritura\n",
    "with open('salida.txt', 'w') as archivo:\n",
    "    # Redirigir la salida estándar al archivo\n",
    "    sys.stdout = archivo\n",
    "\n",
    "    # Realizar el bucle y realizar los prints\n",
    "    for i in range(5):\n",
    "        print(f'{i};{i**2}')\n",
    "\n",
    "    # Restaurar la salida estándar\n",
    "    sys.stdout = sys.__stdout__"
   ]
  },
  {
   "cell_type": "code",
   "execution_count": 2,
   "metadata": {},
   "outputs": [
    {
     "name": "stdout",
     "output_type": "stream",
     "text": [
      "2023-06-05 01:00:00\n"
     ]
    }
   ],
   "source": [
    "texto_fecha = '2023-06-05T01:00'\n",
    "\n",
    "fecha_salida = str2date(texto_fecha)\n",
    "\n",
    "print(fecha_salida)"
   ]
  },
  {
   "cell_type": "code",
   "execution_count": 12,
   "metadata": {},
   "outputs": [
    {
     "name": "stdout",
     "output_type": "stream",
     "text": [
      "{'version': '1.7.0', 'autor': 'mindicador.cl', 'codigo': 'bitcoin', 'nombre': 'Bitcoin', 'unidad_medida': 'Dólar', 'serie': [{'fecha': '2023-06-02T04:00:00.000Z', 'valor': 27251.93}, {'fecha': '2023-05-29T04:00:00.000Z', 'valor': 27744.66}, {'fecha': '2023-05-25T04:00:00.000Z', 'valor': 26477.29}, {'fecha': '2023-05-21T04:00:00.000Z', 'valor': 26756.57}, {'fecha': '2023-05-17T04:00:00.000Z', 'valor': 27398.27}, {'fecha': '2023-05-16T04:00:00.000Z', 'valor': 27036.39}, {'fecha': '2023-05-13T04:00:00.000Z', 'valor': 26785.94}, {'fecha': '2023-05-10T04:00:00.000Z', 'valor': 27617.14}, {'fecha': '2023-05-09T04:00:00.000Z', 'valor': 27640.09}, {'fecha': '2023-05-07T04:00:00.000Z', 'valor': 28456.84}, {'fecha': '2023-05-05T04:00:00.000Z', 'valor': 29535.38}, {'fecha': '2023-05-04T04:00:00.000Z', 'valor': 28851.84}, {'fecha': '2023-05-01T04:00:00.000Z', 'valor': 28086.65}, {'fecha': '2023-04-28T04:00:00.000Z', 'valor': 29329.63}, {'fecha': '2023-04-27T04:00:00.000Z', 'valor': 29480.35}, {'fecha': '2023-04-25T04:00:00.000Z', 'valor': 28301.71}, {'fecha': '2023-04-23T04:00:00.000Z', 'valor': 27590.55}, {'fecha': '2023-04-22T04:00:00.000Z', 'valor': 27816.18}, {'fecha': '2023-04-19T04:00:00.000Z', 'valor': 28829.57}, {'fecha': '2023-04-16T04:00:00.000Z', 'valor': 30315.39}, {'fecha': '2023-04-15T04:00:00.000Z', 'valor': 30319.32}, {'fecha': '2023-04-13T04:00:00.000Z', 'valor': 30407.6}, {'fecha': '2023-04-11T04:00:00.000Z', 'valor': 30234.98}, {'fecha': '2023-04-10T04:00:00.000Z', 'valor': 29656.24}, {'fecha': '2023-04-07T04:00:00.000Z', 'valor': 27925.55}, {'fecha': '2023-04-04T04:00:00.000Z', 'valor': 28169.5}, {'fecha': '2023-04-03T04:00:00.000Z', 'valor': 27802.23}, {'fecha': '2023-04-01T03:00:00.000Z', 'valor': 28465.04}, {'fecha': '2023-03-30T03:00:00.000Z', 'valor': 28033.06}, {'fecha': '2023-03-29T03:00:00.000Z', 'valor': 28355.92}, {'fecha': '2023-03-26T03:00:00.000Z', 'valor': 27999.84}]}\n"
     ]
    }
   ],
   "source": [
    "# Realizar la solicitud a la API\n",
    "response = requests.get('https://mindicador.cl/api/bitcoin')\n",
    "\n",
    "# Verificar si la solicitud fue exitosa (código de estado 200)\n",
    "if response.status_code == 200:\n",
    "    # Obtener los datos de respuesta en formato JSON\n",
    "    data = response.json()\n",
    "\n",
    "    # Crear el DataFrame utilizando los datos\n",
    "    #df = pd.DataFrame(data)\n",
    "\n",
    "    # Hacer algo con el DataFrame, como imprimirlo\n",
    "    print(data)\n",
    "else:\n",
    "    print('Error al realizar la solicitud a la API')\n"
   ]
  },
  {
   "cell_type": "code",
   "execution_count": null,
   "metadata": {},
   "outputs": [],
   "source": []
  }
 ],
 "metadata": {
  "kernelspec": {
   "display_name": "Python 3",
   "language": "python",
   "name": "python3"
  },
  "language_info": {
   "codemirror_mode": {
    "name": "ipython",
    "version": 3
   },
   "file_extension": ".py",
   "mimetype": "text/x-python",
   "name": "python",
   "nbconvert_exporter": "python",
   "pygments_lexer": "ipython3",
   "version": "3.8.16"
  },
  "orig_nbformat": 4
 },
 "nbformat": 4,
 "nbformat_minor": 2
}
